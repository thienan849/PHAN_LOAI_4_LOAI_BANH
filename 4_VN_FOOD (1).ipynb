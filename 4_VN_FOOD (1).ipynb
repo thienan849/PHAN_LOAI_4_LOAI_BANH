{
  "nbformat": 4,
  "nbformat_minor": 0,
  "metadata": {
    "colab": {
      "name": "4_VN_FOOD.ipynb",
      "provenance": [],
      "collapsed_sections": []
    },
    "kernelspec": {
      "name": "python3",
      "display_name": "Python 3"
    },
    "language_info": {
      "name": "python"
    }
  },
  "cells": [
    {
      "cell_type": "code",
      "execution_count": null,
      "metadata": {
        "id": "1TuT1PoDNHmq"
      },
      "outputs": [],
      "source": [
        "import numpy as np #tinh toan\n",
        "import pandas as pd #xu li bang\n",
        "import seaborn as sns #do thi du lieu\n",
        "import matplotlib.pyplot as plt # ve\n",
        "from sklearn.preprocessing import StandardScaler # xu li xu lieu cho dong deu\n",
        "from sklearn.model_selection import train_test_split # chia du lieu\n",
        "from keras.layers import Dense,Activation,Dropout,BatchNormalization,LSTM # nhom chuan\n",
        "from keras.models import Sequential #\n",
        "from tensorflow.keras.utils import to_categorical #### chỉ cho 1 giá trị (1) hiện lên\n",
        "from keras import callbacks #\n",
        "from sklearn.metrics import precision_score, recall_score, confusion_matrix, classification_report, accuracy_score,f1_score # đo lường\n",
        "from tensorflow.keras.optimizers import RMSprop\n",
        "from keras.callbacks import EarlyStopping\n",
        "from sklearn.preprocessing import scale\n",
        "from keras.utils import np_utils\n",
        "from keras.datasets import mnist\n",
        "from keras.models import Sequential\n",
        "from keras.layers import Dense, Dropout\n",
        "from tensorflow.keras.optimizers import RMSprop\n",
        "import numpy as np\n",
        "from tensorflow.keras.optimizers import SGD,Adam\n",
        "from keras.models import Sequential\n",
        "from keras.layers import Dense\n",
        "from keras.layers import Dropout\n",
        "from keras.layers import Flatten\n",
        "from keras.layers.convolutional import Conv2D\n",
        "from keras.layers.convolutional import MaxPooling2D\n",
        "from tensorflow.keras.models import load_model\n",
        "from tensorflow.keras.utils import load_img, img_to_array\n",
        "from keras.preprocessing.image import ImageDataGenerator\n",
        "from skimage import io\n",
        "import os"
      ]
    },
    {
      "cell_type": "code",
      "source": [
        "url='/content/drive/MyDrive/Colab Notebooks/4_VN_FOOD/DATA_TRAIN'"
      ],
      "metadata": {
        "id": "lqjXAJ4iNTon"
      },
      "execution_count": null,
      "outputs": []
    },
    {
      "cell_type": "code",
      "source": [
        "generator= ImageDataGenerator(rescale=1./255,validation_split=0.1)\n",
        "train_data=generator.flow_from_directory(url,target_size=(150,150),batch_size=10,class_mode='categorical',subset='training')\n",
        "validation_dataset=generator.flow_from_directory(url,target_size=(150,150),batch_size=10,class_mode='categorical',subset='validation')"
      ],
      "metadata": {
        "colab": {
          "base_uri": "https://localhost:8080/"
        },
        "id": "JoKFUjqRNsKW",
        "outputId": "e1c36414-4c86-4819-ae48-e55f8e87342b"
      },
      "execution_count": null,
      "outputs": [
        {
          "output_type": "stream",
          "name": "stdout",
          "text": [
            "Found 72 images belonging to 4 classes.\n",
            "Found 7 images belonging to 4 classes.\n"
          ]
        }
      ]
    },
    {
      "cell_type": "code",
      "source": [
        "validation_dataset.class_indices"
      ],
      "metadata": {
        "colab": {
          "base_uri": "https://localhost:8080/"
        },
        "id": "BUFhJMXxN0ra",
        "outputId": "126380e0-68dd-45c9-ba7c-76b72fe60485"
      },
      "execution_count": null,
      "outputs": [
        {
          "output_type": "execute_result",
          "data": {
            "text/plain": [
              "{'BANH_DA_LON': 0, 'BANH_HOI': 1, 'BANH_UOT': 2, 'BANH_XEO': 3}"
            ]
          },
          "metadata": {},
          "execution_count": 5
        }
      ]
    },
    {
      "cell_type": "code",
      "source": [
        "model=Sequential()\n",
        "model.add(Conv2D(32,(3,3),activation='relu',kernel_initializer='he_uniform',padding='same',input_shape=(100,100,3)))\n",
        "model.add(Conv2D(32,(3,3),activation='relu',kernel_initializer='he_uniform',padding='same'))\n",
        "model.add(MaxPooling2D(2,2))\n"
      ],
      "metadata": {
        "id": "2PlkOReTN_hQ"
      },
      "execution_count": null,
      "outputs": []
    },
    {
      "cell_type": "code",
      "source": [
        "model=Sequential()\n",
        "model.add(Conv2D(64,(3,3),activation='relu',kernel_initializer='he_uniform',padding='same'))\n",
        "model.add(MaxPooling2D(2,2))\n"
      ],
      "metadata": {
        "id": "RcP0kvqfOC01"
      },
      "execution_count": null,
      "outputs": []
    },
    {
      "cell_type": "code",
      "source": [
        "model=Sequential()\n",
        "model.add(Conv2D(128,(3,3),activation='relu',kernel_initializer='he_uniform',padding='same'))\n",
        "model.add(MaxPooling2D(2,2))\n"
      ],
      "metadata": {
        "id": "oiRQm094OEKd"
      },
      "execution_count": null,
      "outputs": []
    },
    {
      "cell_type": "code",
      "source": [
        "model.add(Flatten())\n",
        "model.add(Dense(256,activation='relu'))\n",
        "model.add(Dense(4,activation='softmax'))\n"
      ],
      "metadata": {
        "id": "w8PVL7NtOHWY"
      },
      "execution_count": null,
      "outputs": []
    },
    {
      "cell_type": "code",
      "source": [
        "opt=SGD(learning_rate=0.002,momentum=0.9)\n",
        "model.compile (optimizer=opt,loss='categorical_crossentropy', metrics=['accuracy'])\n",
        "history=model.fit(train_data,epochs=15,batch_size=128,validation_data=validation_dataset,verbose=1)\n",
        "score=model.evaluate(validation_dataset,verbose=0)\n",
        "print('Sai số kiểm tra là:',score[0])\n",
        "print('Độ chính xác kiểm tra là:',score[1])"
      ],
      "metadata": {
        "colab": {
          "base_uri": "https://localhost:8080/"
        },
        "id": "xjDoG1yLOMIW",
        "outputId": "a5c062f1-a48f-4f45-8a9c-ee60ba6692f1"
      },
      "execution_count": null,
      "outputs": [
        {
          "output_type": "stream",
          "name": "stdout",
          "text": [
            "Epoch 1/15\n",
            "8/8 [==============================] - 17s 2s/step - loss: 116.8217 - accuracy: 0.2222 - val_loss: 1.3149 - val_accuracy: 0.2857\n",
            "Epoch 2/15\n",
            "8/8 [==============================] - 14s 2s/step - loss: 1.1745 - accuracy: 0.6389 - val_loss: 1.0101 - val_accuracy: 0.7143\n",
            "Epoch 3/15\n",
            "8/8 [==============================] - 14s 2s/step - loss: 0.6794 - accuracy: 0.9444 - val_loss: 0.7790 - val_accuracy: 0.5714\n",
            "Epoch 4/15\n",
            "8/8 [==============================] - 15s 2s/step - loss: 0.2982 - accuracy: 1.0000 - val_loss: 0.5453 - val_accuracy: 0.7143\n",
            "Epoch 5/15\n",
            "8/8 [==============================] - 14s 2s/step - loss: 0.0992 - accuracy: 1.0000 - val_loss: 0.4283 - val_accuracy: 0.8571\n",
            "Epoch 6/15\n",
            "8/8 [==============================] - 15s 2s/step - loss: 0.0336 - accuracy: 1.0000 - val_loss: 0.3381 - val_accuracy: 1.0000\n",
            "Epoch 7/15\n",
            "8/8 [==============================] - 15s 2s/step - loss: 0.0204 - accuracy: 1.0000 - val_loss: 0.3034 - val_accuracy: 0.8571\n",
            "Epoch 8/15\n",
            "8/8 [==============================] - 15s 2s/step - loss: 0.0113 - accuracy: 1.0000 - val_loss: 0.2833 - val_accuracy: 0.8571\n",
            "Epoch 9/15\n",
            "8/8 [==============================] - 13s 2s/step - loss: 0.0084 - accuracy: 1.0000 - val_loss: 0.2713 - val_accuracy: 0.8571\n",
            "Epoch 10/15\n",
            "8/8 [==============================] - 14s 2s/step - loss: 0.0067 - accuracy: 1.0000 - val_loss: 0.2533 - val_accuracy: 1.0000\n",
            "Epoch 11/15\n",
            "8/8 [==============================] - 13s 1s/step - loss: 0.0055 - accuracy: 1.0000 - val_loss: 0.2462 - val_accuracy: 1.0000\n",
            "Epoch 12/15\n",
            "8/8 [==============================] - 16s 2s/step - loss: 0.0048 - accuracy: 1.0000 - val_loss: 0.2421 - val_accuracy: 1.0000\n",
            "Epoch 13/15\n",
            "8/8 [==============================] - 14s 2s/step - loss: 0.0044 - accuracy: 1.0000 - val_loss: 0.2396 - val_accuracy: 1.0000\n",
            "Epoch 14/15\n",
            "8/8 [==============================] - 13s 2s/step - loss: 0.0040 - accuracy: 1.0000 - val_loss: 0.2388 - val_accuracy: 1.0000\n",
            "Epoch 15/15\n",
            "8/8 [==============================] - 14s 2s/step - loss: 0.0037 - accuracy: 1.0000 - val_loss: 0.2419 - val_accuracy: 0.8571\n",
            "Sai số kiểm tra là: 0.24192845821380615\n",
            "Độ chính xác kiểm tra là: 0.8571428656578064\n"
          ]
        }
      ]
    },
    {
      "cell_type": "code",
      "source": [
        "# 'BANH_DA_LON': 0, 'BANH_HOI': 1, 'BANH_UOT': 2, 'BANH_XEO': 3\n",
        "name=['banh da lon','banh hoi','banh uot','banh xeo']\n",
        "img=load_img('BANHDALONTEST.jpg',target_size=(150,150)) \n",
        "img=img_to_array(img)\n",
        "img=img.reshape(1,150,150,3)\n",
        "img=img.astype('float32')\n",
        "img=img/255\n",
        "print(name[np.argmax(model.predict(img))])"
      ],
      "metadata": {
        "colab": {
          "base_uri": "https://localhost:8080/"
        },
        "id": "OCKqikUiQOxp",
        "outputId": "d90943cf-f908-4afd-8468-1853842a9a1b"
      },
      "execution_count": 34,
      "outputs": [
        {
          "output_type": "stream",
          "name": "stdout",
          "text": [
            "banh da lon\n"
          ]
        }
      ]
    },
    {
      "cell_type": "code",
      "source": [
        "img=load_img('BANHHOITEST.jpg',target_size=(150,150)) \n",
        "img=img_to_array(img)\n",
        "img=img.reshape(1,150,150,3)\n",
        "img=img.astype('float32')\n",
        "img=img/255\n",
        "print(name[np.argmax(model.predict(img))])"
      ],
      "metadata": {
        "colab": {
          "base_uri": "https://localhost:8080/"
        },
        "id": "-VOcZ4qBR-DF",
        "outputId": "f2061bab-42b4-4ce2-95f1-94c7ec4d3ab9"
      },
      "execution_count": 38,
      "outputs": [
        {
          "output_type": "stream",
          "name": "stdout",
          "text": [
            "banh hoi\n"
          ]
        }
      ]
    },
    {
      "cell_type": "code",
      "source": [
        "img=load_img('BANHUOTTEST.jpg',target_size=(150,150)) \n",
        "img=img_to_array(img)\n",
        "img=img.reshape(1,150,150,3)\n",
        "img=img.astype('float32')\n",
        "img=img/255\n",
        "print(name[np.argmax(model.predict(img))])"
      ],
      "metadata": {
        "colab": {
          "base_uri": "https://localhost:8080/"
        },
        "id": "qIB8CYvjR-_w",
        "outputId": "91a559ae-5fa8-4507-b4d0-a75a8e50dbd1"
      },
      "execution_count": 37,
      "outputs": [
        {
          "output_type": "stream",
          "name": "stdout",
          "text": [
            "banh uot\n"
          ]
        }
      ]
    },
    {
      "cell_type": "code",
      "source": [
        "img=load_img('BANHXEOTEST.jpg',target_size=(150,150)) \n",
        "img=img_to_array(img)\n",
        "img=img.reshape(1,150,150,3)\n",
        "img=img.astype('float32')\n",
        "img=img/255\n",
        "print(name[np.argmax(model.predict(img))])"
      ],
      "metadata": {
        "colab": {
          "base_uri": "https://localhost:8080/"
        },
        "id": "eGOpfoq7R_n2",
        "outputId": "45c41910-8974-4071-824b-d4f21b84d0ac"
      },
      "execution_count": 36,
      "outputs": [
        {
          "output_type": "stream",
          "name": "stdout",
          "text": [
            "banh xeo\n"
          ]
        }
      ]
    },
    {
      "cell_type": "code",
      "source": [
        "model.save('/content/drive/MyDrive/Colab Notebooks/MOHINH_H5/4_VN_FOOD')"
      ],
      "metadata": {
        "colab": {
          "base_uri": "https://localhost:8080/"
        },
        "id": "uGEmoNJPTeXS",
        "outputId": "7774cfe6-cf75-404a-d8a9-c8216e28efde"
      },
      "execution_count": null,
      "outputs": [
        {
          "output_type": "stream",
          "name": "stdout",
          "text": [
            "INFO:tensorflow:Assets written to: /content/drive/MyDrive/Colab Notebooks/MOHINH_H5/4_VN_FOOD/assets\n"
          ]
        }
      ]
    }
  ]
}